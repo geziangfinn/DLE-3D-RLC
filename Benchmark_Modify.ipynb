{
 "cells": [
  {
   "cell_type": "code",
   "execution_count": 4,
   "metadata": {
    "collapsed": true
   },
   "outputs": [
    {
     "name": "stdout",
     "output_type": "stream",
     "text": [
      "190\n"
     ]
    }
   ],
   "source": [
    "import math\n",
    "import random\n",
    "\n",
    "newBenchmark = open(\"./benchmarks_3D/ispd09f32_3D\", mode='w')\n",
    "\n",
    "with open(r\"./benchmarks/ispd09f32\", \"r\") as f:\n",
    "    data = f.readlines()\n",
    "    temp = data[0].split()\n",
    "    sinkNum = data[2].split()[2]\n",
    "    print(sinkNum)\n",
    "\n",
    "    #write line1\n",
    "    newBenchmark.write(temp[0] + \" \" + temp[1] + \" \" + str(round(int(temp[2])/math.sqrt(2))) + \" \" + str(round(int(temp[3])/math.sqrt(2))) + \"\\n\")\n",
    "    #write line2\n",
    "    newBenchmark.write(data[1])\n",
    "    #write line3\n",
    "    newBenchmark.write(data[2])\n",
    "    #write sink\n",
    "    for i in range(int(sinkNum)):\n",
    "        judge = random.randint(0, 100)\n",
    "        temp = data[3+i].split()\n",
    "        if(judge <50):\n",
    "            strWrite = temp[0] + \" Coordinate: \" + str(round(int(temp[1])/math.sqrt(2))) + \" \" + str(round(int(temp[2])/math.sqrt(2))) + \" 1 \" + temp[3] + \"\\n\"\n",
    "        else:\n",
    "            strWrite = temp[0] + \" Coordinate: \" + str(round(int(temp[1])/math.sqrt(2))) + \" \" + str(round(int(temp[2])/math.sqrt(2))) + \" 2 \" + temp[3] + \"\\n\"\n",
    "        newBenchmark.write(strWrite)\n",
    "    #write other until blockage. Modify this part manually\n",
    "    for i in range(10):\n",
    "        newBenchmark.write(data[3+int(sinkNum)+i])"
   ]
  }
 ],
 "metadata": {
  "kernelspec": {
   "name": "py36",
   "language": "python",
   "display_name": "Python (py36)"
  },
  "language_info": {
   "codemirror_mode": {
    "name": "ipython",
    "version": 2
   },
   "file_extension": ".py",
   "mimetype": "text/x-python",
   "name": "python",
   "nbconvert_exporter": "python",
   "pygments_lexer": "ipython2",
   "version": "2.7.6"
  }
 },
 "nbformat": 4,
 "nbformat_minor": 0
}